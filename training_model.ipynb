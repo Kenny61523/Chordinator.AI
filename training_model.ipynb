{
 "cells": [
  {
   "cell_type": "code",
   "execution_count": null,
   "id": "ad08da8a-5640-494a-8761-058410b09a8b",
   "metadata": {},
   "outputs": [],
   "source": [
    "import pandas as pd\n",
    "from sklearn.model_selection import train_test_split\n",
    "import numpy as np"
   ]
  },
  {
   "cell_type": "code",
   "execution_count": 76,
   "id": "a4226bd7-ad29-4ced-90ee-c044c2dee750",
   "metadata": {},
   "outputs": [],
   "source": [
    "import tensorflow as tf\n",
    "from tensorflow import keras\n",
    "from tensorflow.keras.models import Sequential\n",
    "from tensorflow.keras.layers import Dense, LSTM, Flatten, RepeatVector, TimeDistributed\n",
    "from tensorflow.keras.preprocessing.sequence import pad_sequences"
   ]
  },
  {
   "cell_type": "code",
   "execution_count": null,
   "id": "723141b0-ed12-494e-9a50-9357ff75aad2",
   "metadata": {},
   "outputs": [],
   "source": [
    "note_mapping = {\n",
    "    'C0': 1, 'C#0': 2, 'D0': 3, 'D#0': 4, 'E0': 5, 'F0': 6, 'F#0': 7, 'G0': 8, 'G#0': 9, 'A1': 10,\n",
    "    'A#1': 11, 'B1': 12, 'C1': 13, 'C#1': 14, 'D1': 15, 'D#1': 16, 'E1': 17, 'F1': 18, 'F#1': 19,\n",
    "    'G1': 20, 'G#1': 21, 'A2': 22, 'A#2': 23, 'B2': 24, 'C2': 25, 'C#2': 26, 'D2': 27, 'D#2': 28,\n",
    "    'E2': 29, 'F2': 30, 'F#2': 31, 'G2': 32, 'G#2': 33, 'A3': 34, 'A#3': 35, 'B3': 36, 'C3': 37,\n",
    "    'C#3': 38, 'D3': 39, 'D#3': 40, 'E3': 41, 'F3': 42, 'F#3': 43, 'G3': 44, 'G#3': 45, 'A4': 46,\n",
    "    'A#4': 47, 'B4': 48, 'C4': 49, 'C#4': 50, 'D4': 51, 'D#4': 52, 'E4': 53, 'F4': 54, 'F#4': 55,\n",
    "    'G4': 56, 'G#4': 57, 'A5': 58, 'A#5': 59, 'B5': 60, 'C5': 61, 'C#5': 62, 'D5': 63, 'D#5': 64,\n",
    "    'E5': 65, 'F5': 66, 'F#5': 67, 'G5': 68, 'G#5': 69, 'A6': 70, 'A#6': 71, 'B6': 72, 'C6': 73\n",
    "}"
   ]
  },
  {
   "cell_type": "code",
   "execution_count": 36,
   "id": "ec0fe328-62e8-403b-89b3-3ea7ea35803a",
   "metadata": {},
   "outputs": [],
   "source": [
    "dataset = [\n",
    "    (['C1', 'G1', 'A1', 'F1'], (['C1', 'E1', 'G1'], ['G1', 'B2', 'D2'], ['A1', 'C1', 'E1'], ['F1', 'A2', 'C2'])),\n",
    "    (['C4', 'F4', 'G4', 'A5'], (['C4', 'E4', 'G4'], ['F4', 'C5', 'A5'], ['G4', 'B5', 'D5'], ['A5', 'C5', 'A6'])),\n",
    "    (['C2', 'D2', 'F2', 'G2'], (['C2', 'G2', 'E3'], ['D2', 'A3', 'F2', 'D3'], ['F2', 'A3', 'C3'], ['G2', 'B3', 'D3']))\n",
    "]"
   ]
  },
  {
   "cell_type": "code",
   "execution_count": null,
   "id": "9411fb3b-98f1-4faa-9927-fa387f3ef48f",
   "metadata": {},
   "outputs": [],
   "source": [
    "data_frame = pd.read_csv('output.csv')"
   ]
  },
  {
   "cell_type": "code",
   "execution_count": 64,
   "id": "3b990309-2784-4416-bc12-2f796d5e374e",
   "metadata": {},
   "outputs": [],
   "source": [
    "def encode_notes(notes):\n",
    "    return [note_mapping[note] for note in notes]"
   ]
  },
  {
   "cell_type": "code",
   "execution_count": 83,
   "id": "89bd0197-1303-4957-b0cc-35d51d7fb75c",
   "metadata": {},
   "outputs": [
    {
     "name": "stdout",
     "output_type": "stream",
     "text": [
      "['C1', 'G1', 'A1', 'F1']\n",
      "(['C1', 'E1', 'G1'], ['G1', 'B2', 'D2'], ['A1', 'C1', 'E1'], ['F1', 'A2', 'C2'])\n",
      "['C4', 'F4', 'G4', 'A5']\n",
      "(['C4', 'E4', 'G4'], ['F4', 'C5', 'A5'], ['G4', 'B5', 'D5'], ['A5', 'C5', 'A6'])\n",
      "['C2', 'D2', 'F2', 'G2']\n",
      "(['C2', 'G2', 'E3'], ['D2', 'A3', 'F2', 'D3'], ['F2', 'A3', 'C3'], ['G2', 'B3', 'D3'])\n",
      "Here's X:\n",
      "[[13 20 10 18]\n",
      " [49 54 56 58]\n",
      " [25 27 30 32]]\n",
      "Here's y:\n",
      "[[[13 17 20  0  0  0]\n",
      "  [20 24 27  0  0  0]\n",
      "  [10 13 17  0  0  0]\n",
      "  [18 22 25  0  0  0]]\n",
      "\n",
      " [[49 53 56  0  0  0]\n",
      "  [54 61 58  0  0  0]\n",
      "  [56 60 63  0  0  0]\n",
      "  [58 61 70  0  0  0]]\n",
      "\n",
      " [[25 32 41  0  0  0]\n",
      "  [27 34 30 39  0  0]\n",
      "  [30 34 37  0  0  0]\n",
      "  [32 36 39  0  0  0]]]\n"
     ]
    }
   ],
   "source": [
    "# Process the dataset\n",
    "X_train = []\n",
    "y_train = []\n",
    "\n",
    "for base_notes, chord_progressions in dataset:\n",
    "    # Encode base notes\n",
    "    encoded_base_notes = encode_notes(base_notes)\n",
    "\n",
    "    print(base_notes)\n",
    "    print(chord_progressions)\n",
    "\n",
    "    # Encode and pad chord progressions\n",
    "    encoded_chord_progressions = [encode_notes(chord) for chord in chord_progressions]\n",
    "    padded_chord_progressions = pad_sequences(encoded_chord_progressions, maxlen=6, padding='post')\n",
    "\n",
    "    # Create input-output pairs\n",
    "    X_train.append(encoded_base_notes)\n",
    "    y_train.append(padded_chord_progressions)\n",
    "\n",
    "X_train = np.array(X_train)\n",
    "y_train = np.array(y_train)\n",
    "\n",
    "print(\"Here's X:\")\n",
    "print(X_train)\n",
    "print(\"Here's y:\")\n",
    "print(y_train)"
   ]
  },
  {
   "cell_type": "code",
   "execution_count": 87,
   "id": "5f40907a-2d02-4352-9941-cd6380e45c28",
   "metadata": {},
   "outputs": [],
   "source": [
    "# model = Sequential()\n",
    "# model.add(Dense(units=128, activation = \"relu\"))\n",
    "# model.add(Dense(units=4, activation='softmax'))\n",
    "\n",
    "model = Sequential()\n",
    "model.add(Dense(units=128, activation=\"relu\", input_shape=(4,)))\n",
    "model.add(RepeatVector(4))  # Repeat the vector to match the number of timesteps\n",
    "model.add(LSTM(units=64, return_sequences=True))\n",
    "model.add(TimeDistributed(Dense(units=6, activation='softmax')))"
   ]
  },
  {
   "cell_type": "code",
   "execution_count": 88,
   "id": "16522a8a-8045-493b-b295-268fc917938c",
   "metadata": {},
   "outputs": [],
   "source": [
    "model.compile(optimizer=tf.compat.v1.train.AdamOptimizer(), loss='categorical_crossentropy', metrics=['accuracy'])"
   ]
  },
  {
   "cell_type": "code",
   "execution_count": 89,
   "id": "05764cda-6fae-4c47-af77-6643e3d05fc4",
   "metadata": {},
   "outputs": [
    {
     "name": "stdout",
     "output_type": "stream",
     "text": [
      "Epoch 1/50\n",
      "2/2 [==============================] - 2s 531ms/step - loss: 207.0305 - accuracy: 0.3750 - val_loss: 165.2913 - val_accuracy: 0.7500\n",
      "Epoch 2/50\n",
      "2/2 [==============================] - 0s 43ms/step - loss: 172.3259 - accuracy: 0.8750 - val_loss: 157.3704 - val_accuracy: 0.0000e+00\n",
      "Epoch 3/50\n",
      "2/2 [==============================] - 0s 39ms/step - loss: 153.8839 - accuracy: 0.6250 - val_loss: 157.4447 - val_accuracy: 0.0000e+00\n",
      "Epoch 4/50\n",
      "2/2 [==============================] - 0s 45ms/step - loss: 147.9691 - accuracy: 0.1250 - val_loss: 157.3396 - val_accuracy: 0.0000e+00\n",
      "Epoch 5/50\n",
      "2/2 [==============================] - 0s 39ms/step - loss: 144.4823 - accuracy: 0.2500 - val_loss: 157.6780 - val_accuracy: 0.0000e+00\n",
      "Epoch 6/50\n",
      "2/2 [==============================] - 0s 38ms/step - loss: 140.9260 - accuracy: 0.6250 - val_loss: 156.9081 - val_accuracy: 0.7500\n",
      "Epoch 7/50\n",
      "2/2 [==============================] - 0s 33ms/step - loss: 137.0663 - accuracy: 0.8750 - val_loss: 157.2000 - val_accuracy: 0.7500\n",
      "Epoch 8/50\n",
      "2/2 [==============================] - 0s 44ms/step - loss: 135.1405 - accuracy: 0.8750 - val_loss: 157.4024 - val_accuracy: 0.7500\n",
      "Epoch 9/50\n",
      "2/2 [==============================] - 0s 45ms/step - loss: 133.6653 - accuracy: 0.8750 - val_loss: 157.6088 - val_accuracy: 0.7500\n",
      "Epoch 10/50\n",
      "2/2 [==============================] - 0s 37ms/step - loss: 132.1821 - accuracy: 0.8750 - val_loss: 158.1732 - val_accuracy: 0.0000e+00\n",
      "Epoch 11/50\n",
      "2/2 [==============================] - 0s 45ms/step - loss: 131.4724 - accuracy: 0.6250 - val_loss: 158.5906 - val_accuracy: 0.0000e+00\n",
      "Epoch 12/50\n",
      "2/2 [==============================] - 0s 38ms/step - loss: 130.9769 - accuracy: 0.6250 - val_loss: 158.7177 - val_accuracy: 0.0000e+00\n",
      "Epoch 13/50\n",
      "2/2 [==============================] - 0s 44ms/step - loss: 130.4716 - accuracy: 0.6250 - val_loss: 158.8347 - val_accuracy: 0.5000\n",
      "Epoch 14/50\n",
      "2/2 [==============================] - 0s 46ms/step - loss: 129.8923 - accuracy: 0.8750 - val_loss: 159.1559 - val_accuracy: 0.7500\n",
      "Epoch 15/50\n",
      "2/2 [==============================] - 0s 42ms/step - loss: 129.4987 - accuracy: 0.8750 - val_loss: 159.6801 - val_accuracy: 0.7500\n",
      "Epoch 16/50\n",
      "2/2 [==============================] - 0s 47ms/step - loss: 129.1966 - accuracy: 0.8750 - val_loss: 160.5024 - val_accuracy: 0.7500\n",
      "Epoch 17/50\n",
      "2/2 [==============================] - 0s 41ms/step - loss: 128.8771 - accuracy: 0.8750 - val_loss: 161.4370 - val_accuracy: 0.7500\n",
      "Epoch 18/50\n",
      "2/2 [==============================] - 0s 61ms/step - loss: 128.8079 - accuracy: 0.6250 - val_loss: 162.0162 - val_accuracy: 0.7500\n",
      "Epoch 19/50\n",
      "2/2 [==============================] - 0s 46ms/step - loss: 128.5830 - accuracy: 0.6250 - val_loss: 162.2576 - val_accuracy: 0.7500\n",
      "Epoch 20/50\n",
      "2/2 [==============================] - 0s 37ms/step - loss: 128.4643 - accuracy: 0.8750 - val_loss: 162.5421 - val_accuracy: 0.7500\n",
      "Epoch 21/50\n",
      "2/2 [==============================] - 0s 37ms/step - loss: 128.4458 - accuracy: 0.8750 - val_loss: 162.9817 - val_accuracy: 0.7500\n",
      "Epoch 22/50\n",
      "2/2 [==============================] - 0s 35ms/step - loss: 128.2907 - accuracy: 0.8750 - val_loss: 163.5123 - val_accuracy: 0.7500\n",
      "Epoch 23/50\n",
      "2/2 [==============================] - 0s 42ms/step - loss: 128.1388 - accuracy: 0.8750 - val_loss: 164.0912 - val_accuracy: 0.7500\n",
      "Epoch 24/50\n",
      "2/2 [==============================] - 0s 45ms/step - loss: 128.0563 - accuracy: 0.8750 - val_loss: 164.7187 - val_accuracy: 0.7500\n",
      "Epoch 25/50\n",
      "2/2 [==============================] - 0s 43ms/step - loss: 128.0112 - accuracy: 0.8750 - val_loss: 165.1318 - val_accuracy: 0.7500\n",
      "Epoch 26/50\n",
      "2/2 [==============================] - 0s 41ms/step - loss: 127.9447 - accuracy: 0.8750 - val_loss: 165.4370 - val_accuracy: 0.7500\n",
      "Epoch 27/50\n",
      "2/2 [==============================] - 0s 42ms/step - loss: 127.8975 - accuracy: 0.8750 - val_loss: 165.6596 - val_accuracy: 0.7500\n",
      "Epoch 28/50\n",
      "2/2 [==============================] - 0s 36ms/step - loss: 127.8510 - accuracy: 0.8750 - val_loss: 165.9767 - val_accuracy: 0.7500\n",
      "Epoch 29/50\n",
      "2/2 [==============================] - 0s 38ms/step - loss: 127.8188 - accuracy: 0.8750 - val_loss: 166.4106 - val_accuracy: 0.7500\n",
      "Epoch 30/50\n",
      "2/2 [==============================] - 0s 33ms/step - loss: 127.7629 - accuracy: 0.8750 - val_loss: 166.9409 - val_accuracy: 0.7500\n",
      "Epoch 31/50\n",
      "2/2 [==============================] - 0s 35ms/step - loss: 127.7302 - accuracy: 0.8750 - val_loss: 167.1917 - val_accuracy: 0.7500\n",
      "Epoch 32/50\n",
      "2/2 [==============================] - 0s 40ms/step - loss: 127.6799 - accuracy: 0.8750 - val_loss: 167.3594 - val_accuracy: 0.7500\n",
      "Epoch 33/50\n",
      "2/2 [==============================] - 0s 44ms/step - loss: 127.6398 - accuracy: 0.8750 - val_loss: 167.5424 - val_accuracy: 0.7500\n",
      "Epoch 34/50\n",
      "2/2 [==============================] - 0s 40ms/step - loss: 127.6177 - accuracy: 0.8750 - val_loss: 167.8037 - val_accuracy: 0.7500\n",
      "Epoch 35/50\n",
      "2/2 [==============================] - 0s 43ms/step - loss: 127.5793 - accuracy: 0.8750 - val_loss: 168.1487 - val_accuracy: 0.7500\n",
      "Epoch 36/50\n",
      "2/2 [==============================] - 0s 40ms/step - loss: 127.5478 - accuracy: 0.8750 - val_loss: 168.4681 - val_accuracy: 0.7500\n",
      "Epoch 37/50\n",
      "2/2 [==============================] - 0s 47ms/step - loss: 127.5242 - accuracy: 0.8750 - val_loss: 168.8414 - val_accuracy: 0.7500\n",
      "Epoch 38/50\n",
      "2/2 [==============================] - 0s 42ms/step - loss: 127.4978 - accuracy: 0.8750 - val_loss: 169.1782 - val_accuracy: 0.7500\n",
      "Epoch 39/50\n",
      "2/2 [==============================] - 0s 34ms/step - loss: 127.4733 - accuracy: 0.8750 - val_loss: 169.4206 - val_accuracy: 0.7500\n",
      "Epoch 40/50\n",
      "2/2 [==============================] - 0s 31ms/step - loss: 127.4478 - accuracy: 0.8750 - val_loss: 169.7086 - val_accuracy: 0.7500\n",
      "Epoch 41/50\n",
      "2/2 [==============================] - 0s 34ms/step - loss: 127.4195 - accuracy: 0.8750 - val_loss: 170.0748 - val_accuracy: 0.7500\n",
      "Epoch 42/50\n",
      "2/2 [==============================] - 0s 33ms/step - loss: 127.4012 - accuracy: 0.8750 - val_loss: 170.4653 - val_accuracy: 0.7500\n",
      "Epoch 43/50\n",
      "2/2 [==============================] - 0s 33ms/step - loss: 127.3822 - accuracy: 0.8750 - val_loss: 170.5876 - val_accuracy: 0.7500\n",
      "Epoch 44/50\n",
      "2/2 [==============================] - 0s 33ms/step - loss: 127.3619 - accuracy: 0.8750 - val_loss: 171.0804 - val_accuracy: 0.7500\n",
      "Epoch 45/50\n",
      "2/2 [==============================] - 0s 31ms/step - loss: 127.3482 - accuracy: 0.8750 - val_loss: 171.2821 - val_accuracy: 0.7500\n",
      "Epoch 46/50\n",
      "2/2 [==============================] - 0s 35ms/step - loss: 127.3165 - accuracy: 0.8750 - val_loss: 171.2970 - val_accuracy: 0.7500\n",
      "Epoch 47/50\n",
      "2/2 [==============================] - 0s 33ms/step - loss: 127.3636 - accuracy: 0.8750 - val_loss: 171.6524 - val_accuracy: 0.7500\n",
      "Epoch 48/50\n",
      "2/2 [==============================] - 0s 34ms/step - loss: 127.2742 - accuracy: 0.8750 - val_loss: 172.3509 - val_accuracy: 0.7500\n",
      "Epoch 49/50\n",
      "2/2 [==============================] - 0s 32ms/step - loss: 127.3098 - accuracy: 0.8750 - val_loss: 172.6610 - val_accuracy: 0.7500\n",
      "Epoch 50/50\n",
      "2/2 [==============================] - 0s 48ms/step - loss: 127.2644 - accuracy: 0.8750 - val_loss: 172.4296 - val_accuracy: 0.7500\n"
     ]
    },
    {
     "data": {
      "text/plain": [
       "<keras.src.callbacks.History at 0x1e3c1e28850>"
      ]
     },
     "execution_count": 89,
     "metadata": {},
     "output_type": "execute_result"
    }
   ],
   "source": [
    "model.fit(X_train, y_train, epochs=50, batch_size=1, validation_split=0.2)"
   ]
  },
  {
   "cell_type": "code",
   "execution_count": 91,
   "id": "4c384453-35e2-428d-91b1-7047bf20cee7",
   "metadata": {},
   "outputs": [
    {
     "name": "stdout",
     "output_type": "stream",
     "text": [
      "[13 20 10 18]\n"
     ]
    }
   ],
   "source": [
    "print(np.array([13, 20, 10, 18]))"
   ]
  },
  {
   "cell_type": "code",
   "execution_count": 92,
   "id": "26f726a0-1de7-4342-a47b-7779cd57a4b2",
   "metadata": {},
   "outputs": [
    {
     "name": "stdout",
     "output_type": "stream",
     "text": [
      "1/1 [==============================] - 0s 405ms/step\n"
     ]
    },
    {
     "data": {
      "text/plain": [
       "array([[[0.26685268, 0.33614048, 0.38286728, 0.00513131, 0.0058268 ,\n",
       "         0.00318144],\n",
       "        [0.26902235, 0.33629292, 0.39034677, 0.00158405, 0.00194457,\n",
       "         0.00080937],\n",
       "        [0.27066034, 0.33491242, 0.3908969 , 0.00127922, 0.00163507,\n",
       "         0.00061604],\n",
       "        [0.27201894, 0.33460954, 0.38996762, 0.00122181, 0.00160547,\n",
       "         0.00057662]]], dtype=float32)"
      ]
     },
     "execution_count": 92,
     "metadata": {},
     "output_type": "execute_result"
    }
   ],
   "source": [
    "model.predict(np.array([[13, 20, 10, 18]]))"
   ]
  },
  {
   "cell_type": "code",
   "execution_count": null,
   "id": "a8af1afb-6910-4072-9838-a97f025ead6b",
   "metadata": {},
   "outputs": [],
   "source": []
  }
 ],
 "metadata": {
  "kernelspec": {
   "display_name": "Python 3 (ipykernel)",
   "language": "python",
   "name": "python3"
  },
  "language_info": {
   "codemirror_mode": {
    "name": "ipython",
    "version": 3
   },
   "file_extension": ".py",
   "mimetype": "text/x-python",
   "name": "python",
   "nbconvert_exporter": "python",
   "pygments_lexer": "ipython3",
   "version": "3.12.1"
  }
 },
 "nbformat": 4,
 "nbformat_minor": 5
}
