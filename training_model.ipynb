{
 "cells": [
  {
   "cell_type": "code",
   "execution_count": 89,
   "id": "ad08da8a-5640-494a-8761-058410b09a8b",
   "metadata": {},
   "outputs": [],
   "source": [
    "import pandas as pd\n",
    "from sklearn.model_selection import train_test_split\n",
    "import numpy as np\n",
    "import ast"
   ]
  },
  {
   "cell_type": "code",
   "execution_count": 90,
   "id": "a4226bd7-ad29-4ced-90ee-c044c2dee750",
   "metadata": {},
   "outputs": [],
   "source": [
    "import tensorflow as tf\n",
    "from tensorflow import keras\n",
    "from tensorflow.keras.models import Sequential\n",
    "from tensorflow.keras.layers import Dense, LSTM, Flatten, RepeatVector, TimeDistributed\n",
    "from tensorflow.keras.preprocessing.sequence import pad_sequences\n",
    "from keras import backend as K\n",
    "import generate_valid_prediction\n",
    "from keras.models import save_model, load_model"
   ]
  },
  {
   "cell_type": "code",
   "execution_count": 91,
   "id": "723141b0-ed12-494e-9a50-9357ff75aad2",
   "metadata": {},
   "outputs": [],
   "source": [
    "note_mapping = {\n",
    "    'C0': 1, 'C#0': 2, 'D0': 3, 'D#0': 4, 'E0': 5, 'F0': 6, 'F#0': 7, 'G0': 8, 'G#0': 9, 'A1': 10,\n",
    "    'A#1': 11, 'B1': 12, 'C1': 13, 'C#1': 14, 'D1': 15, 'D#1': 16, 'E1': 17, 'F1': 18, 'F#1': 19,\n",
    "    'G1': 20, 'G#1': 21, 'A2': 22, 'A#2': 23, 'B2': 24, 'C2': 25, 'C#2': 26, 'D2': 27, 'D#2': 28,\n",
    "    'E2': 29, 'F2': 30, 'F#2': 31, 'G2': 32, 'G#2': 33, 'A3': 34, 'A#3': 35, 'B3': 36, 'C3': 37,\n",
    "    'C#3': 38, 'D3': 39, 'D#3': 40, 'E3': 41, 'F3': 42, 'F#3': 43, 'G3': 44, 'G#3': 45, 'A4': 46,\n",
    "    'A#4': 47, 'B4': 48, 'C4': 49, 'C#4': 50, 'D4': 51, 'D#4': 52, 'E4': 53, 'F4': 54, 'F#4': 55,\n",
    "    'G4': 56, 'G#4': 57, 'A5': 58, 'A#5': 59, 'B5': 60, 'C5': 61, 'C#5': 62, 'D5': 63, 'D#5': 64,\n",
    "    'E5': 65, 'F5': 66, 'F#5': 67, 'G5': 68, 'G#5': 69, 'A6': 70, 'A#6': 71, 'B6': 72, 'C6': 73\n",
    "}"
   ]
  },
  {
   "cell_type": "code",
   "execution_count": 92,
   "id": "ec0fe328-62e8-403b-89b3-3ea7ea35803a",
   "metadata": {},
   "outputs": [],
   "source": [
    "dataset_1 = [\n",
    "    (['C1', 'G1', 'A1', 'F1'], (['C1', 'E1', 'G1'], ['G1', 'B2', 'D2'], ['A1', 'C1', 'E1'], ['F1', 'A2', 'C2'])),\n",
    "    (['C4', 'F4', 'G4', 'A5'], (['C4', 'E4', 'G4'], ['F4', 'C5', 'A5'], ['G4', 'B5', 'D5'], ['A5', 'C5', 'A6'])),\n",
    "    (['C2', 'D2', 'F2', 'G2'], (['C2', 'G2', 'E3'], ['D2', 'A3', 'F2', 'D3'], ['F2', 'A3', 'C3'], ['G2', 'B3', 'D3']))\n",
    "]"
   ]
  },
  {
   "cell_type": "code",
   "execution_count": 93,
   "id": "3b990309-2784-4416-bc12-2f796d5e374e",
   "metadata": {},
   "outputs": [],
   "source": [
    "def encode_notes(notes):\n",
    "    return [note_mapping[note] for note in notes]"
   ]
  },
  {
   "cell_type": "code",
   "execution_count": 94,
   "id": "6c9e8e65-235e-47c4-9002-521f3fd579e3",
   "metadata": {},
   "outputs": [],
   "source": [
    "dataset = pd.read_csv(\"chord_output.csv\")"
   ]
  },
  {
   "cell_type": "code",
   "execution_count": 132,
   "id": "89bd0197-1303-4957-b0cc-35d51d7fb75c",
   "metadata": {},
   "outputs": [
    {
     "name": "stdout",
     "output_type": "stream",
     "text": [
      "Here's X:\n",
      "[[1 5 4 6]\n",
      " [1 5 4 6]\n",
      " [1 5 4 6]\n",
      " [1 5 6 4]\n",
      " [1 5 6 4]\n",
      " [1 5 6 4]\n",
      " [1 6 4 5]\n",
      " [1 6 4 5]\n",
      " [1 6 4 5]\n",
      " [1 6 5 4]\n",
      " [1 6 5 4]\n",
      " [1 6 5 4]\n",
      " [1 6 5 4]\n",
      " [1 6 5 4]\n",
      " [2 4 6 5]\n",
      " [2 4 6 5]\n",
      " [3 5 6 1]\n",
      " [3 5 6 1]\n",
      " [3 5 6 1]\n",
      " [3 5 6 1]\n",
      " [3 5 6 3]\n",
      " [3 5 6 3]\n",
      " [4 1 5 3]\n",
      " [4 1 5 4]\n",
      " [4 1 5 4]\n",
      " [4 1 5 4]\n",
      " [4 1 5 4]\n",
      " [4 1 6 5]\n",
      " [4 1 6 5]\n",
      " [4 1 6 5]\n",
      " [4 1 6 5]\n",
      " [4 1 6 5]\n",
      " [4 3 6 5]\n",
      " [4 3 6 5]\n",
      " [4 3 6 5]\n",
      " [4 5 6 1]\n",
      " [4 5 6 1]\n",
      " [4 5 6 1]\n",
      " [4 5 6 1]\n",
      " [4 6 5 3]\n",
      " [4 6 5 3]\n",
      " [6 1 2 4]\n",
      " [6 1 2 4]\n",
      " [6 1 2 4]\n",
      " [6 1 3 4]\n",
      " [6 1 3 4]\n",
      " [6 1 3 4]\n",
      " [6 1 4 5]\n",
      " [6 1 4 5]\n",
      " [6 1 4 5]\n",
      " [6 1 5 2]\n",
      " [6 1 5 2]\n",
      " [6 1 5 4]\n",
      " [6 1 5 4]\n",
      " [6 1 5 4]\n",
      " [6 1 5 4]\n",
      " [6 1 6 5]\n",
      " [6 1 6 5]\n",
      " [6 1 6 5]\n",
      " [6 2 4 5]\n",
      " [6 2 4 5]\n",
      " [6 2 4 5]\n",
      " [6 2 4 5]\n",
      " [6 2 5 1]\n",
      " [6 2 5 1]\n",
      " [6 2 5 1]\n",
      " [6 2 5 1]]\n",
      "Here's y:\n",
      "[[[26 24 22 15]\n",
      "  [30 21 26 19]\n",
      "  [29 20 25 18]\n",
      "  [31 29 20 13]]\n",
      "\n",
      " [[33 31 29 15]\n",
      "  [33 30 21 19]\n",
      "  [27 32 29 18]\n",
      "  [27 31 29 13]]\n",
      "\n",
      " [[33 31 29 15]\n",
      "  [30 21 26 19]\n",
      "  [32 29 20 18]\n",
      "  [31 29 20 13]]\n",
      "\n",
      " ...\n",
      "\n",
      " [[27 31 29 13]\n",
      "  [32 30 23 20]\n",
      "  [33 30 21 19]\n",
      "  [31 29 26 22]]\n",
      "\n",
      " [[29 20 24 13]\n",
      "  [20 25 23 16]\n",
      "  [21 26 23 19]\n",
      "  [26 24 22 15]]\n",
      "\n",
      " [[29 20 24 13]\n",
      "  [30 20 25 16]\n",
      "  [30 21 26 19]\n",
      "  [31 29 26 22]]]\n"
     ]
    }
   ],
   "source": [
    "# Process the dataset\n",
    "X_train = []\n",
    "y_train = []\n",
    "X_test = []\n",
    "y_test = []\n",
    "\n",
    "#-----------------------------------------------\n",
    "# for base_notes, chord_progressions in dataset_1:\n",
    "#     # Encode base notes\n",
    "#     encoded_base_notes = encode_notes(base_notes)\n",
    "\n",
    "#     # print(base_notes)\n",
    "\n",
    "#     # Encode and pad chord progressions\n",
    "#     encoded_chord_progressions = [encode_notes(chord) for chord in chord_progressions]\n",
    "#     print(type(encoded_chord_progressions))\n",
    "#     padded_chord_progressions = pad_sequences(encoded_chord_progressions, maxlen=6, padding='post')\n",
    "\n",
    "#     # Create input-output pairs\n",
    "#     X_train.append(encoded_base_notes)\n",
    "#     y_train.append(padded_chord_progressions)\n",
    "\n",
    "# X_train = np.array(X_train)\n",
    "# y_train = np.array(y_train)\n",
    "\n",
    "# # print(\"Here's X:\")\n",
    "# # print(X_train)\n",
    "# # print(\"Here's y:\")\n",
    "# # print(y_train)\n",
    "#----------------------------------------------\n",
    "\n",
    "# # Split the data into training and validation sets\n",
    "# train_data, val_data = train_test_split(dataset, test_size=0.2, random_state=42)\n",
    "\n",
    "# # Prepare training data\n",
    "# X_train = np.array(train_data['base_notes'].tolist())\n",
    "# y_train = np.array(train_data['chord_progressions'].tolist())\n",
    "\n",
    "# # Convert string representations to lists\n",
    "# X_train = [ast.literal_eval(x) for x in X_train]\n",
    "# y_train = [ast.literal_eval(y) for y in y_train]\n",
    "\n",
    "# X_train = np.array(X_train)\n",
    "# y_train = np.array(y_train)\n",
    "\n",
    "num_lines = 83\n",
    "test_amt = 16\n",
    "\n",
    "for i in range(num_lines - test_amt):\n",
    "    base_note = ast.literal_eval(dataset[\"base_notes\"][i])\n",
    "    chord_progression_raw = ast.literal_eval(dataset[\"chord_progressions\"][i])\n",
    "\n",
    "    chord_progression = pad_sequences(chord_progression_raw, maxlen=4, padding='post')\n",
    "    \n",
    "    X_train.append(base_note)\n",
    "    y_train.append(chord_progression)\n",
    "\n",
    "# print(np.array(dataset[\"base_notes\"][99]))\n",
    "\n",
    "X_train = np.array(X_train)\n",
    "y_train = np.array(y_train)\n",
    "\n",
    "\n",
    "for i in range(num_lines - test_amt, num_lines):\n",
    "    base_note = ast.literal_eval(dataset[\"base_notes\"][i])\n",
    "    chord_progression_raw = ast.literal_eval(dataset[\"chord_progressions\"][i])\n",
    "\n",
    "    chord_progression = pad_sequences(chord_progression_raw, maxlen=4, padding='post')\n",
    "    \n",
    "    X_test.append(base_note)\n",
    "    y_test.append(chord_progression)\n",
    "\n",
    "# print(np.array(dataset[\"base_notes\"][99]))\n",
    "\n",
    "X_test = np.array(X_test)\n",
    "y_test = np.array(y_test)\n",
    "\n",
    "print(\"Here's X:\")\n",
    "print(X_train)\n",
    "print(\"Here's y:\")\n",
    "print(y_train)"
   ]
  },
  {
   "cell_type": "code",
   "execution_count": 133,
   "id": "269fb882-a4d1-4a4a-8860-5b41a7979ad9",
   "metadata": {},
   "outputs": [],
   "source": [
    "def custom_loss(y_true, y_pred):\n",
    "    # Your existing loss term\n",
    "    mse_loss = K.mean(K.square(y_true - y_pred))\n",
    "    \n",
    "     # Additional term penalizing rule violations\n",
    "    rule_penalty = calculate_rule_penalty(y_pred)\n",
    "    \n",
    "    # Combine the losses\n",
    "    total_loss = mse_loss + 0.1 * rule_penalty  # Adjust the weight according to your preference\n",
    "    \n",
    "    return total_loss\n",
    "\n",
    "def calculate_rule_penalty(chord_progression):\n",
    "    print(chord_progression)\n",
    "    return 5"
   ]
  },
  {
   "cell_type": "code",
   "execution_count": 140,
   "id": "5f40907a-2d02-4352-9941-cd6380e45c28",
   "metadata": {},
   "outputs": [],
   "source": [
    "# model = Sequential()\n",
    "# model.add(Dense(units=128, activation = \"relu\"))\n",
    "# model.add(Dense(units=4, activation='softmax'))\n",
    "\n",
    "model = Sequential()\n",
    "model.add(Dense(units=128, activation=\"relu\", input_shape=(4,)))\n",
    "model.add(RepeatVector(4))  # Repeat the vector to match the number of timesteps\n",
    "model.add(LSTM(units=64, return_sequences=True))\n",
    "model.add(LSTM(units=32, return_sequences=True))\n",
    "model.add(Dense(units=32, activation=\"relu\"))\n",
    "model.add(TimeDistributed(Dense(units=4, activation='softmax')))"
   ]
  },
  {
   "cell_type": "code",
   "execution_count": 141,
   "id": "16522a8a-8045-493b-b295-268fc917938c",
   "metadata": {},
   "outputs": [],
   "source": [
    "\n",
    "model.compile(optimizer=tf.compat.v1.train.AdamOptimizer(), loss=custom_loss, metrics=['accuracy'])"
   ]
  },
  {
   "cell_type": "code",
   "execution_count": 142,
   "id": "05764cda-6fae-4c47-af77-6643e3d05fc4",
   "metadata": {
    "scrolled": true
   },
   "outputs": [
    {
     "name": "stdout",
     "output_type": "stream",
     "text": [
      "Epoch 1/100\n"
     ]
    },
    {
     "ename": "TypeError",
     "evalue": "in user code:\n\n    File \"C:\\Users\\charl\\AppData\\Local\\Programs\\Python\\Python39\\lib\\site-packages\\keras\\src\\engine\\training.py\", line 1401, in train_function  *\n        return step_function(self, iterator)\n    File \"C:\\Users\\charl\\AppData\\Local\\Temp\\ipykernel_12508\\1870434609.py\", line 3, in custom_loss  *\n        mse_loss = K.mean(K.square(y_true - y_pred))\n\n    TypeError: Input 'y' of 'Sub' Op has type float32 that does not match type int32 of argument 'x'.\n",
     "output_type": "error",
     "traceback": [
      "\u001b[1;31m---------------------------------------------------------------------------\u001b[0m",
      "\u001b[1;31mTypeError\u001b[0m                                 Traceback (most recent call last)",
      "Cell \u001b[1;32mIn[142], line 1\u001b[0m\n\u001b[1;32m----> 1\u001b[0m \u001b[43mmodel\u001b[49m\u001b[38;5;241;43m.\u001b[39;49m\u001b[43mfit\u001b[49m\u001b[43m(\u001b[49m\u001b[43mX_train\u001b[49m\u001b[43m,\u001b[49m\u001b[43m \u001b[49m\u001b[43my_train\u001b[49m\u001b[43m,\u001b[49m\u001b[43m \u001b[49m\u001b[43mepochs\u001b[49m\u001b[38;5;241;43m=\u001b[39;49m\u001b[38;5;241;43m100\u001b[39;49m\u001b[43m,\u001b[49m\u001b[43m \u001b[49m\u001b[43mbatch_size\u001b[49m\u001b[38;5;241;43m=\u001b[39;49m\u001b[38;5;241;43m1\u001b[39;49m\u001b[43m,\u001b[49m\u001b[43m \u001b[49m\u001b[43mvalidation_split\u001b[49m\u001b[38;5;241;43m=\u001b[39;49m\u001b[38;5;241;43m0.2\u001b[39;49m\u001b[43m)\u001b[49m\n",
      "File \u001b[1;32m~\\AppData\\Local\\Programs\\Python\\Python39\\lib\\site-packages\\keras\\src\\utils\\traceback_utils.py:70\u001b[0m, in \u001b[0;36mfilter_traceback.<locals>.error_handler\u001b[1;34m(*args, **kwargs)\u001b[0m\n\u001b[0;32m     67\u001b[0m     filtered_tb \u001b[38;5;241m=\u001b[39m _process_traceback_frames(e\u001b[38;5;241m.\u001b[39m__traceback__)\n\u001b[0;32m     68\u001b[0m     \u001b[38;5;66;03m# To get the full stack trace, call:\u001b[39;00m\n\u001b[0;32m     69\u001b[0m     \u001b[38;5;66;03m# `tf.debugging.disable_traceback_filtering()`\u001b[39;00m\n\u001b[1;32m---> 70\u001b[0m     \u001b[38;5;28;01mraise\u001b[39;00m e\u001b[38;5;241m.\u001b[39mwith_traceback(filtered_tb) \u001b[38;5;28;01mfrom\u001b[39;00m \u001b[38;5;28;01mNone\u001b[39;00m\n\u001b[0;32m     71\u001b[0m \u001b[38;5;28;01mfinally\u001b[39;00m:\n\u001b[0;32m     72\u001b[0m     \u001b[38;5;28;01mdel\u001b[39;00m filtered_tb\n",
      "File \u001b[1;32m~\\AppData\\Local\\Temp\\__autograph_generated_fileghvufqp9.py:15\u001b[0m, in \u001b[0;36mouter_factory.<locals>.inner_factory.<locals>.tf__train_function\u001b[1;34m(iterator)\u001b[0m\n\u001b[0;32m     13\u001b[0m \u001b[38;5;28;01mtry\u001b[39;00m:\n\u001b[0;32m     14\u001b[0m     do_return \u001b[38;5;241m=\u001b[39m \u001b[38;5;28;01mTrue\u001b[39;00m\n\u001b[1;32m---> 15\u001b[0m     retval_ \u001b[38;5;241m=\u001b[39m ag__\u001b[38;5;241m.\u001b[39mconverted_call(ag__\u001b[38;5;241m.\u001b[39mld(step_function), (ag__\u001b[38;5;241m.\u001b[39mld(\u001b[38;5;28mself\u001b[39m), ag__\u001b[38;5;241m.\u001b[39mld(iterator)), \u001b[38;5;28;01mNone\u001b[39;00m, fscope)\n\u001b[0;32m     16\u001b[0m \u001b[38;5;28;01mexcept\u001b[39;00m:\n\u001b[0;32m     17\u001b[0m     do_return \u001b[38;5;241m=\u001b[39m \u001b[38;5;28;01mFalse\u001b[39;00m\n",
      "File \u001b[1;32m~\\AppData\\Local\\Temp\\__autograph_generated_filef4yuv82m.py:10\u001b[0m, in \u001b[0;36mouter_factory.<locals>.inner_factory.<locals>.tf__custom_loss\u001b[1;34m(y_true, y_pred)\u001b[0m\n\u001b[0;32m      8\u001b[0m do_return \u001b[38;5;241m=\u001b[39m \u001b[38;5;28;01mFalse\u001b[39;00m\n\u001b[0;32m      9\u001b[0m retval_ \u001b[38;5;241m=\u001b[39m ag__\u001b[38;5;241m.\u001b[39mUndefinedReturnValue()\n\u001b[1;32m---> 10\u001b[0m mse_loss \u001b[38;5;241m=\u001b[39m ag__\u001b[38;5;241m.\u001b[39mconverted_call(ag__\u001b[38;5;241m.\u001b[39mld(K)\u001b[38;5;241m.\u001b[39mmean, (ag__\u001b[38;5;241m.\u001b[39mconverted_call(ag__\u001b[38;5;241m.\u001b[39mld(K)\u001b[38;5;241m.\u001b[39msquare, (ag__\u001b[38;5;241m.\u001b[39mld(y_true) \u001b[38;5;241m-\u001b[39m ag__\u001b[38;5;241m.\u001b[39mld(y_pred),), \u001b[38;5;28;01mNone\u001b[39;00m, fscope),), \u001b[38;5;28;01mNone\u001b[39;00m, fscope)\n\u001b[0;32m     11\u001b[0m rule_penalty \u001b[38;5;241m=\u001b[39m ag__\u001b[38;5;241m.\u001b[39mconverted_call(ag__\u001b[38;5;241m.\u001b[39mld(calculate_rule_penalty), (ag__\u001b[38;5;241m.\u001b[39mld(y_pred),), \u001b[38;5;28;01mNone\u001b[39;00m, fscope)\n\u001b[0;32m     12\u001b[0m total_loss \u001b[38;5;241m=\u001b[39m ag__\u001b[38;5;241m.\u001b[39mld(mse_loss) \u001b[38;5;241m+\u001b[39m \u001b[38;5;241m0.1\u001b[39m \u001b[38;5;241m*\u001b[39m ag__\u001b[38;5;241m.\u001b[39mld(rule_penalty)\n",
      "\u001b[1;31mTypeError\u001b[0m: in user code:\n\n    File \"C:\\Users\\charl\\AppData\\Local\\Programs\\Python\\Python39\\lib\\site-packages\\keras\\src\\engine\\training.py\", line 1401, in train_function  *\n        return step_function(self, iterator)\n    File \"C:\\Users\\charl\\AppData\\Local\\Temp\\ipykernel_12508\\1870434609.py\", line 3, in custom_loss  *\n        mse_loss = K.mean(K.square(y_true - y_pred))\n\n    TypeError: Input 'y' of 'Sub' Op has type float32 that does not match type int32 of argument 'x'.\n"
     ]
    }
   ],
   "source": [
    "model.fit(X_train, y_train, epochs=100, batch_size=1, validation_split=0.2)"
   ]
  },
  {
   "cell_type": "code",
   "execution_count": null,
   "id": "ce68cb68-64fe-4ce7-aecb-5898aa598210",
   "metadata": {},
   "outputs": [],
   "source": [
    "model.save(\"first_version.h5\")"
   ]
  },
  {
   "cell_type": "code",
   "execution_count": null,
   "id": "f790470d-a021-4679-815d-223a4c6278d0",
   "metadata": {},
   "outputs": [],
   "source": [
    "loaded_model = load_model(\"first_version.h5\", custom_objects={'custom_loss': custom_loss})\n",
    "loaded_model.predict(np.array([[4, 2, 5, 6]]))"
   ]
  },
  {
   "cell_type": "code",
   "execution_count": null,
   "id": "4c384453-35e2-428d-91b1-7047bf20cee7",
   "metadata": {},
   "outputs": [],
   "source": [
    "print(np.array([1, 5, 6, 4]))"
   ]
  },
  {
   "cell_type": "code",
   "execution_count": null,
   "id": "942363cf-34c9-4410-81b0-08f7491bccbc",
   "metadata": {},
   "outputs": [],
   "source": [
    "def validity_function(base_notes, chord_progression):\n",
    "    validity_array = []\n",
    "    base_multiple_array = []\n",
    "    for i in range(4):\n",
    "        for j in range(4):\n",
    "            if ((abs(base_notes[i] - chord_progression[i][j]) % 7 == 0).all() or \n",
    "                (abs(base_notes[i] - chord_progression[i][j]) % 7 == 2).all() or \n",
    "                (abs(base_notes[i] - chord_progression[i][j]) % 7 == 4).all()):\n",
    "                validity_array.append(True)\n",
    "            else:\n",
    "                validity_array.append(False)\n",
    "            if (abs(base_notes[i] - chord_progression[i][j]) % 7 == 0).all():\n",
    "                base_multiple_array.append(True)\n",
    "            else:\n",
    "                base_multiple_array.append(False)\n",
    "    sub1_1 = validity_array[0:4]\n",
    "    sub1_2 = validity_array[4:8]\n",
    "    sub1_3 = validity_array[8:12]\n",
    "    sub1_4 = validity_array[12:16]\n",
    "    sub2_1 = base_multiple_array[0:4]\n",
    "    sub2_2 = base_multiple_array[4:8]\n",
    "    sub2_3 = base_multiple_array[8:12]\n",
    "    sub2_4 = base_multiple_array[12:16]\n",
    "    if (False in sub1_1 or False in sub1_2 or False in sub1_3 or False in sub1_4):\n",
    "        return False\n",
    "    elif (True in sub2_1 and True in sub2_2 and True in sub2_3 and True in sub2_4):\n",
    "        return True\n",
    "    else:\n",
    "        return False\n",
    "\n",
    "def generate_valid_prediction(model, input_sequence):\n",
    "    for i in range(100):\n",
    "        prediction = model.predict(np.array([input_sequence]))\n",
    "        print(prediction)\n",
    "        if validity_function(input_sequence, prediction[0]):\n",
    "            return prediction\n",
    "    # while not validity_function(input_sequence, prediction[0]):\n",
    "    #     # prediction = np.round(model.predict(np.array([input_sequence])) * 125).astype(int)\n",
    "    #     prediction = loaded_model.predict(np.array([input_sequence]))\n",
    "    #     if validity_function(input_sequence, prediction[0]):\n",
    "    #         return prediction"
   ]
  },
  {
   "cell_type": "code",
   "execution_count": null,
   "id": "26f726a0-1de7-4342-a47b-7779cd57a4b2",
   "metadata": {},
   "outputs": [],
   "source": [
    "print(generate_valid_prediction(model, [1, 4, 5, 6]))\n",
    "# model.predict(np.array([[1, 4, 5, 6]]))"
   ]
  },
  {
   "cell_type": "code",
   "execution_count": null,
   "id": "a8af1afb-6910-4072-9838-a97f025ead6b",
   "metadata": {
    "scrolled": true
   },
   "outputs": [],
   "source": [
    "loss, accuracy = model.evaluate(X_test, y_test)\n",
    "print(f'Test Loss: {loss}, Test Accuracy: {accuracy}')"
   ]
  },
  {
   "cell_type": "code",
   "execution_count": null,
   "id": "26c74747-0b36-4746-9224-9781170aabe9",
   "metadata": {},
   "outputs": [],
   "source": [
    "np.round(loaded_model.predict(np.array([[4, 2, 5, 6]])) * 125).astype(int)"
   ]
  },
  {
   "cell_type": "code",
   "execution_count": null,
   "id": "88731800-94f9-4abe-9dff-1b1a7f3bdf08",
   "metadata": {},
   "outputs": [],
   "source": []
  },
  {
   "cell_type": "code",
   "execution_count": null,
   "id": "9ed710b7-5363-4f58-bb03-04d4545a2343",
   "metadata": {},
   "outputs": [],
   "source": []
  }
 ],
 "metadata": {
  "kernelspec": {
   "display_name": "Python 3 (ipykernel)",
   "language": "python",
   "name": "python3"
  },
  "language_info": {
   "codemirror_mode": {
    "name": "ipython",
    "version": 3
   },
   "file_extension": ".py",
   "mimetype": "text/x-python",
   "name": "python",
   "nbconvert_exporter": "python",
   "pygments_lexer": "ipython3",
   "version": "3.9.5"
  }
 },
 "nbformat": 4,
 "nbformat_minor": 5
}
